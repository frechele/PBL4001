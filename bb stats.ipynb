{
 "cells": [
  {
   "cell_type": "code",
   "execution_count": 1,
   "id": "a533d887",
   "metadata": {},
   "outputs": [],
   "source": [
    "import numpy as np\n",
    "import matplotlib.pyplot as plt\n",
    "%matplotlib inline"
   ]
  },
  {
   "cell_type": "code",
   "execution_count": 41,
   "id": "46cbd3ca",
   "metadata": {},
   "outputs": [],
   "source": [
    "import glob\n",
    "import pickle\n",
    "from scipy.stats import norm"
   ]
  },
  {
   "cell_type": "code",
   "execution_count": 3,
   "id": "867d42d5",
   "metadata": {},
   "outputs": [],
   "source": [
    "file_lst = glob.glob('/data/pbl/data/pkl/*.pkl')"
   ]
  },
  {
   "cell_type": "code",
   "execution_count": 88,
   "id": "5fd89323",
   "metadata": {},
   "outputs": [],
   "source": [
    "bb_len_mean = []\n",
    "bb_len_std = []\n",
    "labels = []\n",
    "\n",
    "total_bb = 0\n",
    "malware_bb = 0\n",
    "normal_bb = 0\n",
    "\n",
    "for filename in file_lst:\n",
    "    with open(filename, 'rb') as f:\n",
    "        data = pickle.load(f)\n",
    "        \n",
    "    labels.append(data['type'])\n",
    "    bb_lengths = np.array([len(bb) for bb in data['bbs']])\n",
    "    \n",
    "    bb_len_mean.append(bb_lengths.mean())\n",
    "    bb_len_std.append(bb_lengths.std())\n",
    "    \n",
    "    total_bb += len(data['bbs'])\n",
    "    if data['type'] == 0:\n",
    "        normal_bb += len(data['bbs'])\n",
    "    else:\n",
    "        malware_bb += len(data['bbs'])"
   ]
  },
  {
   "cell_type": "code",
   "execution_count": 89,
   "id": "13157e0b",
   "metadata": {},
   "outputs": [
    {
     "data": {
      "text/plain": [
       "(49717320, 19674011, 30043309)"
      ]
     },
     "execution_count": 89,
     "metadata": {},
     "output_type": "execute_result"
    }
   ],
   "source": [
    "total_bb, normal_bb, malware_bb"
   ]
  },
  {
   "cell_type": "code",
   "execution_count": 26,
   "id": "c8045cd1",
   "metadata": {},
   "outputs": [],
   "source": [
    "bb_len_mean = np.array(bb_len_mean)\n",
    "bb_len_std = np.array(bb_len_std)\n",
    "labels = np.array(labels)"
   ]
  },
  {
   "cell_type": "code",
   "execution_count": 74,
   "id": "8f5997b0",
   "metadata": {},
   "outputs": [],
   "source": [
    "normal_bb_len_mean = bb_len_mean[np.where(labels == 0)]\n",
    "normal_bb_len_std = bb_len_mean[np.where(labels == 0)]"
   ]
  },
  {
   "cell_type": "code",
   "execution_count": 93,
   "id": "dacbf754",
   "metadata": {},
   "outputs": [
    {
     "data": {
      "text/plain": [
       "Text(0.5, 0, 'bb length mean')"
      ]
     },
     "execution_count": 93,
     "metadata": {},
     "output_type": "execute_result"
    },
    {
     "data": {
      "image/png": "[encoded data removed]",
      "text/plain": [
       "<Figure size 576x432 with 1 Axes>"
      ]
     },
     "metadata": {
      "needs_background": "light"
     },
     "output_type": "display_data"
    }
   ],
   "source": [
    "plt.figure(figsize=(8, 6))\n",
    "plt.hist(normal_bb_len_mean, bins=1000)\n",
    "plt.xscale('log')\n",
    "plt.grid()\n",
    "plt.title('histogram of BB length mean', fontsize=20)\n",
    "plt.xlabel('bb length mean', fontsize=15)"
   ]
  },
  {
   "cell_type": "code",
   "execution_count": 94,
   "id": "3ced0933",
   "metadata": {},
   "outputs": [
    {
     "data": {
      "text/plain": [
       "Text(0.5, 0, 'bb length std.')"
      ]
     },
     "execution_count": 94,
     "metadata": {},
     "output_type": "execute_result"
    },
    {
     "data": {
      "image/png": "[encoded data removed]",
      "text/plain": [
       "<Figure size 576x432 with 1 Axes>"
      ]
     },
     "metadata": {
      "needs_background": "light"
     },
     "output_type": "display_data"
    }
   ],
   "source": [
    "plt.figure(figsize=(8, 6))\n",
    "plt.hist(normal_bb_len_std, bins=1000)\n",
    "plt.yscale('log')\n",
    "plt.grid()\n",
    "plt.title('histogram of BB length std.', fontsize=20)\n",
    "plt.xlabel('bb length std.', fontsize=15)"
   ]
  },
  {
   "cell_type": "code",
   "execution_count": 78,
   "id": "efd1d2cc",
   "metadata": {},
   "outputs": [],
   "source": [
    "std_mu, std_std = normal_bb_len_std.mean(), normal_bb_len_std.std()"
   ]
  },
  {
   "cell_type": "code",
   "execution_count": 79,
   "id": "8ac283b5",
   "metadata": {},
   "outputs": [],
   "source": [
    "mean_mu, mean_std = normal_bb_len_mean.mean(), normal_bb_len_mean.std()"
   ]
  },
  {
   "cell_type": "code",
   "execution_count": 80,
   "id": "ae659057",
   "metadata": {},
   "outputs": [],
   "source": [
    "def cal_prob(mean, std):\n",
    "    mean_zscore = (mean - mean_mu) / mean_std\n",
    "    std_zscore = (std - std_mu) / std_std\n",
    "    return 2 * (1 - norm.cdf(abs(mean_zscore))) * 2 * (1 - norm.cdf(abs(std_zscore)))"
   ]
  },
  {
   "cell_type": "code",
   "execution_count": 81,
   "id": "5341e392",
   "metadata": {},
   "outputs": [],
   "source": [
    "score_normal = []\n",
    "score_malware = []\n",
    "\n",
    "for mean, std, label in zip(bb_len_mean, bb_len_std, labels):\n",
    "    score = cal_prob(mean, std)\n",
    "    if label == 0:\n",
    "        score_normal.append(score)\n",
    "    else:\n",
    "        score_malware.append(score)\n",
    "        \n",
    "score_normal = np.array(score_normal)\n",
    "score_malware = np.array(score_malware)"
   ]
  },
  {
   "cell_type": "code",
   "execution_count": 100,
   "id": "fbbf7c53",
   "metadata": {},
   "outputs": [
    {
     "data": {
      "text/plain": [
       "Text(0.5, 0, 'score')"
      ]
     },
     "execution_count": 100,
     "metadata": {},
     "output_type": "execute_result"
    },
    {
     "data": {
      "image/png": "[encoded data removed]",
      "text/plain": [
       "<Figure size 864x360 with 2 Axes>"
      ]
     },
     "metadata": {
      "needs_background": "light"
     },
     "output_type": "display_data"
    }
   ],
   "source": [
    "plt.figure(figsize=(12, 5))\n",
    "\n",
    "plt.subplot(1, 2, 1)\n",
    "plt.ylim(0, 0.4)\n",
    "plt.hist(score_normal, weights=np.ones(len(score_normal)) / len(score_normal))\n",
    "plt.title('score histogram for normal', fontsize=20)\n",
    "plt.xlabel('score', fontsize=15)\n",
    "\n",
    "plt.subplot(1, 2, 2)\n",
    "plt.ylim(0, 0.4)\n",
    "plt.hist(score_malware, weights=np.ones(len(score_malware)) / len(score_malware))\n",
    "plt.title('score histogram for malware', fontsize=20)\n",
    "plt.xlabel('score', fontsize=15)"
   ]
  },
  {
   "cell_type": "code",
   "execution_count": 71,
   "id": "eb547ca2",
   "metadata": {},
   "outputs": [
    {
     "name": "stdout",
     "output_type": "stream",
     "text": [
      "ja call jnc jcxz jng jno jpo jp retfw jl retn jns jnle retnw jbe jnae jle jnp jnb jnl jge je jae jnge jz jo jpe js jg jne jnbe jb jecxz jc retf jna jze ret\n"
     ]
    }
   ],
   "source": [
    "JUMP_INSTS = {\n",
    "    'jo',\n",
    "    'jno',\n",
    "    'js',\n",
    "    'jns',\n",
    "    'je',\n",
    "    'jz',\n",
    "    'jne',\n",
    "    'jze',\n",
    "    'jb',\n",
    "    'jnae',\n",
    "    'jc',\n",
    "    'jnb',\n",
    "    'jae',\n",
    "    'jnc',\n",
    "    'jbe',\n",
    "    'jna',\n",
    "    'ja',\n",
    "    'jnbe',\n",
    "    'jl',\n",
    "    'jnge',\n",
    "    'jge',\n",
    "    'jnl',\n",
    "    'jle',\n",
    "    'jng',\n",
    "    'jg',\n",
    "    'jnle',\n",
    "    'jp',\n",
    "    'jpe',\n",
    "    'jnp',\n",
    "    'jpo',\n",
    "    'jcxz',\n",
    "    'jecxz',\n",
    "    'call',\n",
    "    'ret',\n",
    "    'retf',\n",
    "    'retfw',\n",
    "    'retn',\n",
    "    'retnw'\n",
    "}\n",
    "print(' '.join(JUMP_INSTS))"
   ]
  },
  {
   "cell_type": "code",
   "execution_count": 73,
   "id": "63354d07",
   "metadata": {},
   "outputs": [
    {
     "data": {
      "text/plain": [
       "(1610, 2696)"
      ]
     },
     "execution_count": 73,
     "metadata": {},
     "output_type": "execute_result"
    }
   ],
   "source": [
    "np.sum(labels == 0), np.sum(labels == 1)"
   ]
  },
  {
   "cell_type": "code",
   "execution_count": null,
   "id": "a60d3d6d",
   "metadata": {},
   "outputs": [],
   "source": []
  }
 ],
 "metadata": {
  "kernelspec": {
   "display_name": "Python 3",
   "language": "python",
   "name": "python3"
  },
  "language_info": {
   "codemirror_mode": {
    "name": "ipython",
    "version": 3
   },
   "file_extension": ".py",
   "mimetype": "text/x-python",
   "name": "python",
   "nbconvert_exporter": "python",
   "pygments_lexer": "ipython3",
   "version": "3.8.8"
  }
 },
 "nbformat": 4,
 "nbformat_minor": 5
}
